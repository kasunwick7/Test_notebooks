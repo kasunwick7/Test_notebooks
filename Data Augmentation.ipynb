{
 "cells": [
  {
   "cell_type": "code",
   "execution_count": 31,
   "metadata": {},
   "outputs": [],
   "source": [
    "from keras.preprocessing.image import ImageDataGenerator\n",
    "import cv2"
   ]
  },
  {
   "cell_type": "code",
   "execution_count": 33,
   "metadata": {},
   "outputs": [
    {
     "name": "stdout",
     "output_type": "stream",
     "text": [
      "Old shape : (281, 300, 3)\n",
      "New shape : (1, 281, 300, 3)\n"
     ]
    }
   ],
   "source": [
    "#this code is for demonstrate image data augmentation\n",
    "\n",
    "datagen = ImageDataGenerator(rotation_range=40,width_shift_range=0.2,height_shift_range=0.2,shear_range=0.2,\n",
    "                             zoom_range=0.2,horizontal_flip=True,fill_mode='nearest')\n",
    "\n",
    "img = cv2.imread(r'D:\\ML&DL\\Projects\\CNN Image Classification\\PetImages\\Cat\\1.jpg')  \n",
    "print('Old shape :' ,img.shape)\n",
    "\n",
    "x = img.reshape(1,img.shape[0],img.shape[1],img.shape[2])  # this is a Numpy array with shape (1, 3, 150, 150)\n",
    "print('New shape :' ,x.shape)\n",
    "\n",
    "\n",
    "# the .flow() command below generates batches of randomly transformed images\n",
    "# and saves the results to the `preview/` directory\n",
    "\n",
    "i = 0\n",
    "for batch in datagen.flow(x, batch_size=1,save_to_dir='preview', save_prefix='cat', save_format='jpeg'):\n",
    "    i += 1\n",
    "    if i > 20:\n",
    "        break  # otherwise the generator would loop indefinitely"
   ]
  }
 ],
 "metadata": {
  "kernelspec": {
   "display_name": "base",
   "language": "python",
   "name": "python3"
  },
  "language_info": {
   "codemirror_mode": {
    "name": "ipython",
    "version": 3
   },
   "file_extension": ".py",
   "mimetype": "text/x-python",
   "name": "python",
   "nbconvert_exporter": "python",
   "pygments_lexer": "ipython3",
   "version": "3.9.13"
  },
  "orig_nbformat": 4
 },
 "nbformat": 4,
 "nbformat_minor": 2
}
