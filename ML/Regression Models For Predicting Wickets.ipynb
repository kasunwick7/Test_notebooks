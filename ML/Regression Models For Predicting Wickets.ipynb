{
 "cells": [
  {
   "cell_type": "code",
   "execution_count": 1,
   "metadata": {},
   "outputs": [],
   "source": [
    "import pandas as pd\n",
    "import numpy as np"
   ]
  },
  {
   "cell_type": "code",
   "execution_count": 2,
   "metadata": {},
   "outputs": [],
   "source": [
    "df = pd.read_csv ('Final-full2.csv')"
   ]
  },
  {
   "cell_type": "code",
   "execution_count": 3,
   "metadata": {
    "scrolled": true
   },
   "outputs": [
    {
     "data": {
      "text/html": [
       "<div>\n",
       "<style scoped>\n",
       "    .dataframe tbody tr th:only-of-type {\n",
       "        vertical-align: middle;\n",
       "    }\n",
       "\n",
       "    .dataframe tbody tr th {\n",
       "        vertical-align: top;\n",
       "    }\n",
       "\n",
       "    .dataframe thead th {\n",
       "        text-align: right;\n",
       "    }\n",
       "</style>\n",
       "<table border=\"1\" class=\"dataframe\">\n",
       "  <thead>\n",
       "    <tr style=\"text-align: right;\">\n",
       "      <th></th>\n",
       "      <th>Player Name</th>\n",
       "      <th>Opposition</th>\n",
       "      <th>Ground</th>\n",
       "      <th>No Of Matches</th>\n",
       "      <th>Last 5 AVG Overs</th>\n",
       "      <th>Last 5 AVG Mdns</th>\n",
       "      <th>Last 5 AVG Runs</th>\n",
       "      <th>Last 5 AVG Wkts</th>\n",
       "      <th>Last 5 AVG SR</th>\n",
       "      <th>Last 5 AVG MatchWin%</th>\n",
       "      <th>Wkts</th>\n",
       "      <th>Runs</th>\n",
       "      <th>Day/Night</th>\n",
       "      <th>Fielding Inning</th>\n",
       "      <th>Tournament Type</th>\n",
       "    </tr>\n",
       "  </thead>\n",
       "  <tbody>\n",
       "    <tr>\n",
       "      <th>0</th>\n",
       "      <td>Akila Dananjaya</td>\n",
       "      <td>v Afghanistan</td>\n",
       "      <td>Abu Dhabi</td>\n",
       "      <td>1</td>\n",
       "      <td>9</td>\n",
       "      <td>0</td>\n",
       "      <td>55</td>\n",
       "      <td>3</td>\n",
       "      <td>25.29</td>\n",
       "      <td>41.55</td>\n",
       "      <td>3</td>\n",
       "      <td>43</td>\n",
       "      <td>Day/Night</td>\n",
       "      <td>Second</td>\n",
       "      <td>Icc/Asia</td>\n",
       "    </tr>\n",
       "    <tr>\n",
       "      <th>1</th>\n",
       "      <td>Akila Dananjaya</td>\n",
       "      <td>v Afghanistan</td>\n",
       "      <td>Abu Dhabi</td>\n",
       "      <td>1</td>\n",
       "      <td>7</td>\n",
       "      <td>0</td>\n",
       "      <td>47</td>\n",
       "      <td>2</td>\n",
       "      <td>30.32</td>\n",
       "      <td>44.32</td>\n",
       "      <td>1</td>\n",
       "      <td>39</td>\n",
       "      <td>Day/Night</td>\n",
       "      <td>Second</td>\n",
       "      <td>Icc/Asia</td>\n",
       "    </tr>\n",
       "    <tr>\n",
       "      <th>2</th>\n",
       "      <td>Akila Dananjaya</td>\n",
       "      <td>v Afghanistan</td>\n",
       "      <td>Abu Dhabi</td>\n",
       "      <td>1</td>\n",
       "      <td>9</td>\n",
       "      <td>0</td>\n",
       "      <td>48</td>\n",
       "      <td>2</td>\n",
       "      <td>28.37</td>\n",
       "      <td>35.27</td>\n",
       "      <td>2</td>\n",
       "      <td>40</td>\n",
       "      <td>Day/Night</td>\n",
       "      <td>Second</td>\n",
       "      <td>Icc/Asia</td>\n",
       "    </tr>\n",
       "    <tr>\n",
       "      <th>3</th>\n",
       "      <td>Akila Dananjaya</td>\n",
       "      <td>v Afghanistan</td>\n",
       "      <td>Abu Dhabi</td>\n",
       "      <td>1</td>\n",
       "      <td>10</td>\n",
       "      <td>2</td>\n",
       "      <td>53</td>\n",
       "      <td>2</td>\n",
       "      <td>29.90</td>\n",
       "      <td>43.36</td>\n",
       "      <td>1</td>\n",
       "      <td>37</td>\n",
       "      <td>Day/Night</td>\n",
       "      <td>Second</td>\n",
       "      <td>Icc/Asia</td>\n",
       "    </tr>\n",
       "    <tr>\n",
       "      <th>4</th>\n",
       "      <td>Akila Dananjaya</td>\n",
       "      <td>v Afghanistan</td>\n",
       "      <td>Abu Dhabi</td>\n",
       "      <td>1</td>\n",
       "      <td>10</td>\n",
       "      <td>0</td>\n",
       "      <td>50</td>\n",
       "      <td>3</td>\n",
       "      <td>21.14</td>\n",
       "      <td>36.38</td>\n",
       "      <td>1</td>\n",
       "      <td>38</td>\n",
       "      <td>Day/Night</td>\n",
       "      <td>Second</td>\n",
       "      <td>Icc/Asia</td>\n",
       "    </tr>\n",
       "    <tr>\n",
       "      <th>...</th>\n",
       "      <td>...</td>\n",
       "      <td>...</td>\n",
       "      <td>...</td>\n",
       "      <td>...</td>\n",
       "      <td>...</td>\n",
       "      <td>...</td>\n",
       "      <td>...</td>\n",
       "      <td>...</td>\n",
       "      <td>...</td>\n",
       "      <td>...</td>\n",
       "      <td>...</td>\n",
       "      <td>...</td>\n",
       "      <td>...</td>\n",
       "      <td>...</td>\n",
       "      <td>...</td>\n",
       "    </tr>\n",
       "    <tr>\n",
       "      <th>5440</th>\n",
       "      <td>Wanindu Hasaranga de Silva</td>\n",
       "      <td>v Zimbabwe</td>\n",
       "      <td>Mirpur</td>\n",
       "      <td>1</td>\n",
       "      <td>6</td>\n",
       "      <td>0</td>\n",
       "      <td>35</td>\n",
       "      <td>0</td>\n",
       "      <td>12.34</td>\n",
       "      <td>4.06</td>\n",
       "      <td>0</td>\n",
       "      <td>13</td>\n",
       "      <td>Day/Night</td>\n",
       "      <td>Second</td>\n",
       "      <td>Icc/Asia</td>\n",
       "    </tr>\n",
       "    <tr>\n",
       "      <th>5441</th>\n",
       "      <td>Wanindu Hasaranga de Silva</td>\n",
       "      <td>v Zimbabwe</td>\n",
       "      <td>Mirpur</td>\n",
       "      <td>1</td>\n",
       "      <td>5</td>\n",
       "      <td>0</td>\n",
       "      <td>34</td>\n",
       "      <td>0</td>\n",
       "      <td>11.52</td>\n",
       "      <td>0.00</td>\n",
       "      <td>0</td>\n",
       "      <td>21</td>\n",
       "      <td>Day/Night</td>\n",
       "      <td>Second</td>\n",
       "      <td>Icc/Asia</td>\n",
       "    </tr>\n",
       "    <tr>\n",
       "      <th>5442</th>\n",
       "      <td>Wanindu Hasaranga de Silva</td>\n",
       "      <td>v Zimbabwe</td>\n",
       "      <td>Mirpur</td>\n",
       "      <td>1</td>\n",
       "      <td>7</td>\n",
       "      <td>1</td>\n",
       "      <td>32</td>\n",
       "      <td>2</td>\n",
       "      <td>3.56</td>\n",
       "      <td>0.00</td>\n",
       "      <td>0</td>\n",
       "      <td>17</td>\n",
       "      <td>Day/Night</td>\n",
       "      <td>Second</td>\n",
       "      <td>Icc/Asia</td>\n",
       "    </tr>\n",
       "    <tr>\n",
       "      <th>5443</th>\n",
       "      <td>Wanindu Hasaranga de Silva</td>\n",
       "      <td>v Zimbabwe</td>\n",
       "      <td>Mirpur</td>\n",
       "      <td>1</td>\n",
       "      <td>7</td>\n",
       "      <td>2</td>\n",
       "      <td>31</td>\n",
       "      <td>1</td>\n",
       "      <td>4.42</td>\n",
       "      <td>2.66</td>\n",
       "      <td>0</td>\n",
       "      <td>13</td>\n",
       "      <td>Day/Night</td>\n",
       "      <td>Second</td>\n",
       "      <td>Icc/Asia</td>\n",
       "    </tr>\n",
       "    <tr>\n",
       "      <th>5444</th>\n",
       "      <td>Wanindu Hasaranga de Silva</td>\n",
       "      <td>v Zimbabwe</td>\n",
       "      <td>Mirpur</td>\n",
       "      <td>1</td>\n",
       "      <td>5</td>\n",
       "      <td>0</td>\n",
       "      <td>31</td>\n",
       "      <td>1</td>\n",
       "      <td>12.43</td>\n",
       "      <td>0.00</td>\n",
       "      <td>0</td>\n",
       "      <td>21</td>\n",
       "      <td>Day/Night</td>\n",
       "      <td>Second</td>\n",
       "      <td>Icc/Asia</td>\n",
       "    </tr>\n",
       "  </tbody>\n",
       "</table>\n",
       "<p>5445 rows × 15 columns</p>\n",
       "</div>"
      ],
      "text/plain": [
       "                     Player Name     Opposition     Ground  No Of Matches  \\\n",
       "0                Akila Dananjaya  v Afghanistan  Abu Dhabi              1   \n",
       "1                Akila Dananjaya  v Afghanistan  Abu Dhabi              1   \n",
       "2                Akila Dananjaya  v Afghanistan  Abu Dhabi              1   \n",
       "3                Akila Dananjaya  v Afghanistan  Abu Dhabi              1   \n",
       "4                Akila Dananjaya  v Afghanistan  Abu Dhabi              1   \n",
       "...                          ...            ...        ...            ...   \n",
       "5440  Wanindu Hasaranga de Silva     v Zimbabwe     Mirpur              1   \n",
       "5441  Wanindu Hasaranga de Silva     v Zimbabwe     Mirpur              1   \n",
       "5442  Wanindu Hasaranga de Silva     v Zimbabwe     Mirpur              1   \n",
       "5443  Wanindu Hasaranga de Silva     v Zimbabwe     Mirpur              1   \n",
       "5444  Wanindu Hasaranga de Silva     v Zimbabwe     Mirpur              1   \n",
       "\n",
       "      Last 5 AVG Overs  Last 5 AVG Mdns  Last 5 AVG Runs  Last 5 AVG Wkts  \\\n",
       "0                    9                0               55                3   \n",
       "1                    7                0               47                2   \n",
       "2                    9                0               48                2   \n",
       "3                   10                2               53                2   \n",
       "4                   10                0               50                3   \n",
       "...                ...              ...              ...              ...   \n",
       "5440                 6                0               35                0   \n",
       "5441                 5                0               34                0   \n",
       "5442                 7                1               32                2   \n",
       "5443                 7                2               31                1   \n",
       "5444                 5                0               31                1   \n",
       "\n",
       "      Last 5 AVG SR  Last 5 AVG MatchWin%  Wkts  Runs  Day/Night  \\\n",
       "0             25.29                 41.55     3    43  Day/Night   \n",
       "1             30.32                 44.32     1    39  Day/Night   \n",
       "2             28.37                 35.27     2    40  Day/Night   \n",
       "3             29.90                 43.36     1    37  Day/Night   \n",
       "4             21.14                 36.38     1    38  Day/Night   \n",
       "...             ...                   ...   ...   ...        ...   \n",
       "5440          12.34                  4.06     0    13  Day/Night   \n",
       "5441          11.52                  0.00     0    21  Day/Night   \n",
       "5442           3.56                  0.00     0    17  Day/Night   \n",
       "5443           4.42                  2.66     0    13  Day/Night   \n",
       "5444          12.43                  0.00     0    21  Day/Night   \n",
       "\n",
       "     Fielding Inning Tournament Type  \n",
       "0             Second        Icc/Asia  \n",
       "1             Second        Icc/Asia  \n",
       "2             Second        Icc/Asia  \n",
       "3             Second        Icc/Asia  \n",
       "4             Second        Icc/Asia  \n",
       "...              ...             ...  \n",
       "5440          Second        Icc/Asia  \n",
       "5441          Second        Icc/Asia  \n",
       "5442          Second        Icc/Asia  \n",
       "5443          Second        Icc/Asia  \n",
       "5444          Second        Icc/Asia  \n",
       "\n",
       "[5445 rows x 15 columns]"
      ]
     },
     "execution_count": 3,
     "metadata": {},
     "output_type": "execute_result"
    }
   ],
   "source": [
    "df"
   ]
  },
  {
   "cell_type": "code",
   "execution_count": 4,
   "metadata": {},
   "outputs": [],
   "source": [
    "df = df.drop(['No Of Matches'], axis = 1)"
   ]
  },
  {
   "cell_type": "code",
   "execution_count": 5,
   "metadata": {
    "scrolled": true
   },
   "outputs": [
    {
     "data": {
      "text/plain": [
       "Player Name              object\n",
       "Opposition               object\n",
       "Ground                   object\n",
       "Last 5 AVG Overs          int64\n",
       "Last 5 AVG Mdns           int64\n",
       "Last 5 AVG Runs           int64\n",
       "Last 5 AVG Wkts           int64\n",
       "Last 5 AVG SR           float64\n",
       "Last 5 AVG MatchWin%    float64\n",
       "Wkts                      int64\n",
       "Runs                      int64\n",
       "Day/Night                object\n",
       "Fielding Inning          object\n",
       "Tournament Type          object\n",
       "dtype: object"
      ]
     },
     "execution_count": 5,
     "metadata": {},
     "output_type": "execute_result"
    }
   ],
   "source": [
    "df.dtypes"
   ]
  },
  {
   "cell_type": "code",
   "execution_count": 6,
   "metadata": {},
   "outputs": [
    {
     "data": {
      "text/plain": [
       "array(['Akila Dananjaya', 'Angelo Mathews', 'Asela Gunaratne',\n",
       "       'Asitha Fernando', 'Binura Fernando', 'Chamika Karunaratne',\n",
       "       'Charith Asalanka ', 'Chaturanga de Silva', 'Danushka Gunathilaka',\n",
       "       'Dasun Shanaka', 'Dhananjaya de Silva', 'Dushmantha Chameera',\n",
       "       'Isuru Udana', 'Jeffrey Vandersay', 'Kamindu Mendis',\n",
       "       'Kasun Rajitha', 'Lahiru Kumara', 'Lakshan Sandakan',\n",
       "       'Lasith Malinga', 'Maheesh Theekshana', 'Nuwan Pradeep',\n",
       "       'Praveen Jayawickrama', 'Ramesh Mendis', 'Seekkuge Prasanna',\n",
       "       'Suranga Lakmal', 'Thisara Perera', 'Vishwa Fernando',\n",
       "       'Wanindu Hasaranga de Silva'], dtype=object)"
      ]
     },
     "execution_count": 6,
     "metadata": {},
     "output_type": "execute_result"
    }
   ],
   "source": [
    "df['Player Name'].unique()"
   ]
  },
  {
   "cell_type": "code",
   "execution_count": 7,
   "metadata": {},
   "outputs": [
    {
     "data": {
      "text/plain": [
       "array(['v Afghanistan', 'v Bangladesh', 'v England', 'v India',\n",
       "       'v Pakistan', 'v South Africa', 'v Zimbabwe', 'v Australia',\n",
       "       'v Canada', 'v Ireland', 'v Kenya', 'v New Zealand', 'v Scotland',\n",
       "       'v West Indies', 'v Bermuda', 'v Netherlands'], dtype=object)"
      ]
     },
     "execution_count": 7,
     "metadata": {},
     "output_type": "execute_result"
    }
   ],
   "source": [
    "df['Opposition'].unique()"
   ]
  },
  {
   "cell_type": "code",
   "execution_count": 8,
   "metadata": {},
   "outputs": [
    {
     "data": {
      "text/plain": [
       "array(['Abu Dhabi', 'Colombo (RPS)', 'Mirpur', 'Dambulla', 'Pallekele',\n",
       "       'Dharamsala', 'Mohali', 'Visakhapatnam', 'Dubai (DSC)', 'Sharjah',\n",
       "       'Cape Town', 'Centurion', 'Durban', 'Johannesburg', 'Cardiff',\n",
       "       'Dunedin', 'Adelaide', 'Brisbane', 'Hambantota', 'Hobart',\n",
       "       'Melbourne', 'Perth', 'Sydney', 'The Oval', 'Birmingham',\n",
       "       'Bristol', 'Chester-le-Street', 'Leeds', \"Lord's\", 'Manchester',\n",
       "       'Nottingham', 'Wellington', 'Ahmedabad', 'Bulawayo', 'Cuttack',\n",
       "       'Fatullah', 'Hyderabad (Deccan)', 'Kingston', 'Kolkata', 'Nagpur',\n",
       "       'Port of Spain', 'Rajkot', 'Ranchi', 'Dublin', 'Dublin (Malahide)',\n",
       "       'Auckland', 'Christchurch', 'Hamilton', 'Mount Maunganui',\n",
       "       'Nelson', 'Wankhede', 'Edinburgh', 'Bloemfontein', 'East London',\n",
       "       'Kimberley', 'Paarl', 'Colombo (SSC)', 'North Sound', 'Galle',\n",
       "       'Harare', 'Gqeberha', 'Karachi', 'Bridgetown', 'Colombo (PSS)',\n",
       "       'Canberra', 'Amstelveen', 'Brabourne', 'Napier', 'Queenstown',\n",
       "       'Jaipur', 'Providence'], dtype=object)"
      ]
     },
     "execution_count": 8,
     "metadata": {},
     "output_type": "execute_result"
    }
   ],
   "source": [
    "df['Ground'].unique()"
   ]
  },
  {
   "cell_type": "code",
   "execution_count": 9,
   "metadata": {},
   "outputs": [
    {
     "data": {
      "text/plain": [
       "array(['Day/Night', 'Day'], dtype=object)"
      ]
     },
     "execution_count": 9,
     "metadata": {},
     "output_type": "execute_result"
    }
   ],
   "source": [
    "df['Day/Night'].unique()"
   ]
  },
  {
   "cell_type": "code",
   "execution_count": 10,
   "metadata": {},
   "outputs": [
    {
     "data": {
      "text/plain": [
       "array(['Second', 'First'], dtype=object)"
      ]
     },
     "execution_count": 10,
     "metadata": {},
     "output_type": "execute_result"
    }
   ],
   "source": [
    "df['Fielding Inning'].unique()"
   ]
  },
  {
   "cell_type": "code",
   "execution_count": 11,
   "metadata": {},
   "outputs": [
    {
     "data": {
      "text/plain": [
       "array(['Icc/Asia', 'Bilateral/Tri-Series'], dtype=object)"
      ]
     },
     "execution_count": 11,
     "metadata": {},
     "output_type": "execute_result"
    }
   ],
   "source": [
    "df['Tournament Type'].unique()"
   ]
  },
  {
   "cell_type": "code",
   "execution_count": 12,
   "metadata": {},
   "outputs": [],
   "source": [
    "from sklearn.preprocessing import LabelEncoder\n",
    "\n",
    "label = LabelEncoder()\n",
    "df['Player Name'] = label.fit_transform(df['Player Name'])\n",
    "df['Opposition'] = label.fit_transform(df['Opposition'])\n",
    "df['Ground'] = label.fit_transform(df['Ground'])\n",
    "df['Day/Night'] = label.fit_transform(df['Day/Night'])\n",
    "df['Fielding Inning'] = label.fit_transform(df['Fielding Inning'])\n",
    "df['Tournament Type'] = label.fit_transform(df['Tournament Type'])"
   ]
  },
  {
   "cell_type": "code",
   "execution_count": 13,
   "metadata": {},
   "outputs": [
    {
     "data": {
      "text/html": [
       "<div>\n",
       "<style scoped>\n",
       "    .dataframe tbody tr th:only-of-type {\n",
       "        vertical-align: middle;\n",
       "    }\n",
       "\n",
       "    .dataframe tbody tr th {\n",
       "        vertical-align: top;\n",
       "    }\n",
       "\n",
       "    .dataframe thead th {\n",
       "        text-align: right;\n",
       "    }\n",
       "</style>\n",
       "<table border=\"1\" class=\"dataframe\">\n",
       "  <thead>\n",
       "    <tr style=\"text-align: right;\">\n",
       "      <th></th>\n",
       "      <th>Player Name</th>\n",
       "      <th>Opposition</th>\n",
       "      <th>Ground</th>\n",
       "      <th>Last 5 AVG Overs</th>\n",
       "      <th>Last 5 AVG Mdns</th>\n",
       "      <th>Last 5 AVG Runs</th>\n",
       "      <th>Last 5 AVG Wkts</th>\n",
       "      <th>Last 5 AVG SR</th>\n",
       "      <th>Last 5 AVG MatchWin%</th>\n",
       "      <th>Wkts</th>\n",
       "      <th>Runs</th>\n",
       "      <th>Day/Night</th>\n",
       "      <th>Fielding Inning</th>\n",
       "      <th>Tournament Type</th>\n",
       "    </tr>\n",
       "  </thead>\n",
       "  <tbody>\n",
       "    <tr>\n",
       "      <th>0</th>\n",
       "      <td>0</td>\n",
       "      <td>0</td>\n",
       "      <td>0</td>\n",
       "      <td>9</td>\n",
       "      <td>0</td>\n",
       "      <td>55</td>\n",
       "      <td>3</td>\n",
       "      <td>25.29</td>\n",
       "      <td>41.55</td>\n",
       "      <td>3</td>\n",
       "      <td>43</td>\n",
       "      <td>1</td>\n",
       "      <td>1</td>\n",
       "      <td>1</td>\n",
       "    </tr>\n",
       "    <tr>\n",
       "      <th>1</th>\n",
       "      <td>0</td>\n",
       "      <td>0</td>\n",
       "      <td>0</td>\n",
       "      <td>7</td>\n",
       "      <td>0</td>\n",
       "      <td>47</td>\n",
       "      <td>2</td>\n",
       "      <td>30.32</td>\n",
       "      <td>44.32</td>\n",
       "      <td>1</td>\n",
       "      <td>39</td>\n",
       "      <td>1</td>\n",
       "      <td>1</td>\n",
       "      <td>1</td>\n",
       "    </tr>\n",
       "    <tr>\n",
       "      <th>2</th>\n",
       "      <td>0</td>\n",
       "      <td>0</td>\n",
       "      <td>0</td>\n",
       "      <td>9</td>\n",
       "      <td>0</td>\n",
       "      <td>48</td>\n",
       "      <td>2</td>\n",
       "      <td>28.37</td>\n",
       "      <td>35.27</td>\n",
       "      <td>2</td>\n",
       "      <td>40</td>\n",
       "      <td>1</td>\n",
       "      <td>1</td>\n",
       "      <td>1</td>\n",
       "    </tr>\n",
       "    <tr>\n",
       "      <th>3</th>\n",
       "      <td>0</td>\n",
       "      <td>0</td>\n",
       "      <td>0</td>\n",
       "      <td>10</td>\n",
       "      <td>2</td>\n",
       "      <td>53</td>\n",
       "      <td>2</td>\n",
       "      <td>29.90</td>\n",
       "      <td>43.36</td>\n",
       "      <td>1</td>\n",
       "      <td>37</td>\n",
       "      <td>1</td>\n",
       "      <td>1</td>\n",
       "      <td>1</td>\n",
       "    </tr>\n",
       "    <tr>\n",
       "      <th>4</th>\n",
       "      <td>0</td>\n",
       "      <td>0</td>\n",
       "      <td>0</td>\n",
       "      <td>10</td>\n",
       "      <td>0</td>\n",
       "      <td>50</td>\n",
       "      <td>3</td>\n",
       "      <td>21.14</td>\n",
       "      <td>36.38</td>\n",
       "      <td>1</td>\n",
       "      <td>38</td>\n",
       "      <td>1</td>\n",
       "      <td>1</td>\n",
       "      <td>1</td>\n",
       "    </tr>\n",
       "    <tr>\n",
       "      <th>...</th>\n",
       "      <td>...</td>\n",
       "      <td>...</td>\n",
       "      <td>...</td>\n",
       "      <td>...</td>\n",
       "      <td>...</td>\n",
       "      <td>...</td>\n",
       "      <td>...</td>\n",
       "      <td>...</td>\n",
       "      <td>...</td>\n",
       "      <td>...</td>\n",
       "      <td>...</td>\n",
       "      <td>...</td>\n",
       "      <td>...</td>\n",
       "      <td>...</td>\n",
       "    </tr>\n",
       "    <tr>\n",
       "      <th>5440</th>\n",
       "      <td>27</td>\n",
       "      <td>15</td>\n",
       "      <td>49</td>\n",
       "      <td>6</td>\n",
       "      <td>0</td>\n",
       "      <td>35</td>\n",
       "      <td>0</td>\n",
       "      <td>12.34</td>\n",
       "      <td>4.06</td>\n",
       "      <td>0</td>\n",
       "      <td>13</td>\n",
       "      <td>1</td>\n",
       "      <td>1</td>\n",
       "      <td>1</td>\n",
       "    </tr>\n",
       "    <tr>\n",
       "      <th>5441</th>\n",
       "      <td>27</td>\n",
       "      <td>15</td>\n",
       "      <td>49</td>\n",
       "      <td>5</td>\n",
       "      <td>0</td>\n",
       "      <td>34</td>\n",
       "      <td>0</td>\n",
       "      <td>11.52</td>\n",
       "      <td>0.00</td>\n",
       "      <td>0</td>\n",
       "      <td>21</td>\n",
       "      <td>1</td>\n",
       "      <td>1</td>\n",
       "      <td>1</td>\n",
       "    </tr>\n",
       "    <tr>\n",
       "      <th>5442</th>\n",
       "      <td>27</td>\n",
       "      <td>15</td>\n",
       "      <td>49</td>\n",
       "      <td>7</td>\n",
       "      <td>1</td>\n",
       "      <td>32</td>\n",
       "      <td>2</td>\n",
       "      <td>3.56</td>\n",
       "      <td>0.00</td>\n",
       "      <td>0</td>\n",
       "      <td>17</td>\n",
       "      <td>1</td>\n",
       "      <td>1</td>\n",
       "      <td>1</td>\n",
       "    </tr>\n",
       "    <tr>\n",
       "      <th>5443</th>\n",
       "      <td>27</td>\n",
       "      <td>15</td>\n",
       "      <td>49</td>\n",
       "      <td>7</td>\n",
       "      <td>2</td>\n",
       "      <td>31</td>\n",
       "      <td>1</td>\n",
       "      <td>4.42</td>\n",
       "      <td>2.66</td>\n",
       "      <td>0</td>\n",
       "      <td>13</td>\n",
       "      <td>1</td>\n",
       "      <td>1</td>\n",
       "      <td>1</td>\n",
       "    </tr>\n",
       "    <tr>\n",
       "      <th>5444</th>\n",
       "      <td>27</td>\n",
       "      <td>15</td>\n",
       "      <td>49</td>\n",
       "      <td>5</td>\n",
       "      <td>0</td>\n",
       "      <td>31</td>\n",
       "      <td>1</td>\n",
       "      <td>12.43</td>\n",
       "      <td>0.00</td>\n",
       "      <td>0</td>\n",
       "      <td>21</td>\n",
       "      <td>1</td>\n",
       "      <td>1</td>\n",
       "      <td>1</td>\n",
       "    </tr>\n",
       "  </tbody>\n",
       "</table>\n",
       "<p>5445 rows × 14 columns</p>\n",
       "</div>"
      ],
      "text/plain": [
       "      Player Name  Opposition  Ground  Last 5 AVG Overs  Last 5 AVG Mdns  \\\n",
       "0               0           0       0                 9                0   \n",
       "1               0           0       0                 7                0   \n",
       "2               0           0       0                 9                0   \n",
       "3               0           0       0                10                2   \n",
       "4               0           0       0                10                0   \n",
       "...           ...         ...     ...               ...              ...   \n",
       "5440           27          15      49                 6                0   \n",
       "5441           27          15      49                 5                0   \n",
       "5442           27          15      49                 7                1   \n",
       "5443           27          15      49                 7                2   \n",
       "5444           27          15      49                 5                0   \n",
       "\n",
       "      Last 5 AVG Runs  Last 5 AVG Wkts  Last 5 AVG SR  Last 5 AVG MatchWin%  \\\n",
       "0                  55                3          25.29                 41.55   \n",
       "1                  47                2          30.32                 44.32   \n",
       "2                  48                2          28.37                 35.27   \n",
       "3                  53                2          29.90                 43.36   \n",
       "4                  50                3          21.14                 36.38   \n",
       "...               ...              ...            ...                   ...   \n",
       "5440               35                0          12.34                  4.06   \n",
       "5441               34                0          11.52                  0.00   \n",
       "5442               32                2           3.56                  0.00   \n",
       "5443               31                1           4.42                  2.66   \n",
       "5444               31                1          12.43                  0.00   \n",
       "\n",
       "      Wkts  Runs  Day/Night  Fielding Inning  Tournament Type  \n",
       "0        3    43          1                1                1  \n",
       "1        1    39          1                1                1  \n",
       "2        2    40          1                1                1  \n",
       "3        1    37          1                1                1  \n",
       "4        1    38          1                1                1  \n",
       "...    ...   ...        ...              ...              ...  \n",
       "5440     0    13          1                1                1  \n",
       "5441     0    21          1                1                1  \n",
       "5442     0    17          1                1                1  \n",
       "5443     0    13          1                1                1  \n",
       "5444     0    21          1                1                1  \n",
       "\n",
       "[5445 rows x 14 columns]"
      ]
     },
     "execution_count": 13,
     "metadata": {},
     "output_type": "execute_result"
    }
   ],
   "source": [
    "df"
   ]
  },
  {
   "cell_type": "code",
   "execution_count": 14,
   "metadata": {},
   "outputs": [],
   "source": [
    "df.to_csv('Encording.csv')"
   ]
  },
  {
   "cell_type": "code",
   "execution_count": null,
   "metadata": {},
   "outputs": [],
   "source": []
  },
  {
   "cell_type": "code",
   "execution_count": 15,
   "metadata": {},
   "outputs": [],
   "source": [
    "#feature_names = ['Player Name','Opposition','Ground','Last 5 AVG Overs','Last 5 AVG Mdns','Last 5 AVG Runs','Last 5 AVG Wkts','Last 5 AVG SR','Last 5 AVG MatchWin%']\n",
    "feature_names = ['Player Name','Opposition','Ground','Day/Night','Fielding Inning','Tournament Type','Last 5 AVG Overs','Last 5 AVG Mdns','Last 5 AVG Runs','Last 5 AVG Wkts','Last 5 AVG SR','Last 5 AVG MatchWin%']\n",
    "X = df[feature_names]\n",
    "Y = df[\"Wkts\"]"
   ]
  },
  {
   "cell_type": "code",
   "execution_count": 16,
   "metadata": {},
   "outputs": [],
   "source": [
    "data=X.values\n",
    "target=Y.values"
   ]
  },
  {
   "cell_type": "code",
   "execution_count": 17,
   "metadata": {},
   "outputs": [],
   "source": [
    "from sklearn.preprocessing import MinMaxScaler\n",
    "\n",
    "scaler_data = MinMaxScaler()\n",
    "#scaler_target = MinMaxScaler()\n",
    "\n",
    "data_scaled=scaler_data.fit_transform(data)\n",
    "#target_scaled=scaler_target.fit_transform(target)"
   ]
  },
  {
   "cell_type": "code",
   "execution_count": 18,
   "metadata": {},
   "outputs": [],
   "source": [
    "#split the data set as training set and test set randomly\n",
    "from sklearn.model_selection import train_test_split\n",
    "X_train, X_test, y_train, y_test = train_test_split(data_scaled, target, test_size=0.1)"
   ]
  },
  {
   "cell_type": "code",
   "execution_count": 19,
   "metadata": {},
   "outputs": [],
   "source": [
    "#df1 = pd.read_csv (r'E:\\RP SLIIT Final Year\\2022-141\\Selecting Optimal Batsman For Cricket Squad\\Testing_Set_For_Fake_Data_Generate.csv')"
   ]
  },
  {
   "cell_type": "code",
   "execution_count": 20,
   "metadata": {},
   "outputs": [],
   "source": [
    "#df1"
   ]
  },
  {
   "cell_type": "code",
   "execution_count": 21,
   "metadata": {},
   "outputs": [],
   "source": [
    "# from sklearn.preprocessing import LabelEncoder\n",
    "\n",
    "# #label = LabelEncoder()\n",
    "# df1['Player Name'] = label.fit_transform(df1['Player Name'])\n",
    "# df1['Opposition'] = label.fit_transform(df1['Opposition'])\n",
    "# df1['Ground'] = label.fit_transform(df1['Ground'])"
   ]
  },
  {
   "cell_type": "code",
   "execution_count": 22,
   "metadata": {},
   "outputs": [],
   "source": [
    "# df1"
   ]
  },
  {
   "cell_type": "code",
   "execution_count": 23,
   "metadata": {},
   "outputs": [],
   "source": [
    "# feature_names = ['Player Name','Opposition','Ground','Last 5 AVG Mins','Last 5 AVG BF','Last 5 AVG 4s','Last 5 AVG 6s','Last 5 AVG SR','Last 5 AVG Runs']\n",
    "# X1 = df[feature_names]\n",
    "# Y1 = df[\"AVG Runs\"]"
   ]
  },
  {
   "cell_type": "code",
   "execution_count": 24,
   "metadata": {},
   "outputs": [],
   "source": [
    "# data_scaled1 = scaler_data.fit_transform(X1)"
   ]
  },
  {
   "cell_type": "code",
   "execution_count": 25,
   "metadata": {},
   "outputs": [],
   "source": [
    "# #split the data set as training set and test set randomly\n",
    "# from sklearn.model_selection import train_test_split\n",
    "# X_train1, X_test1, y_train1, y_test1 = train_test_split(data_scaled1, Y1, test_size=0.99)"
   ]
  },
  {
   "cell_type": "code",
   "execution_count": 26,
   "metadata": {},
   "outputs": [],
   "source": [
    "##--LinearRegression\n",
    "from sklearn.linear_model import LinearRegression\n",
    "from matplotlib import pyplot\n",
    "\n",
    "linear_reg = LinearRegression()\n",
    "linear_reg.fit(X_train, y_train)\n",
    "y_pred_LR = linear_reg.predict(X_test)"
   ]
  },
  {
   "cell_type": "code",
   "execution_count": 27,
   "metadata": {},
   "outputs": [],
   "source": [
    "##--RandomForestRegressor\n",
    "from sklearn.ensemble import RandomForestRegressor\n",
    "\n",
    "Random_FR = RandomForestRegressor()\n",
    "Random_FR.fit(X_train, y_train)\n",
    "y_pred_RF = Random_FR.predict(X_test)"
   ]
  },
  {
   "cell_type": "code",
   "execution_count": null,
   "metadata": {},
   "outputs": [],
   "source": [
    "# import Random Forest classifier\n",
    "from sklearn.ensemble import RandomForestClassifier\n",
    "from sklearn.metrics import accuracy_score, classification_report, roc_curve, roc_auc_score\n",
    "\n",
    "# instantiate the classifier \n",
    "rfc = RandomForestClassifier(random_state=42)\n",
    "\n",
    "# fit the model\n",
    "rfc.fit(X_train, y_train)\n",
    "\n",
    "# Predict the Test set results\n",
    "y_pred = rfc.predict(X_test)\n",
    "\n",
    "print(\"The accuracy score of Random Forest Classifier is {}\".format(accuracy_score(y_test, y_pred)))\n",
    "print()\n",
    "print(\"Classification Report:\")\n",
    "print(classification_report(y_test, y_pred))\n",
    "print()\n",
    "print(\"The AUC-ROC score is {}\".format(roc_auc_score(y_test, y_pred)))"
   ]
  },
  {
   "cell_type": "code",
   "execution_count": 28,
   "metadata": {},
   "outputs": [],
   "source": [
    "##--DecisionTreeRegressor\n",
    "from sklearn.tree import DecisionTreeRegressor\n",
    "\n",
    "d_reg = DecisionTreeRegressor()\n",
    "d_reg.fit(X_train, y_train)\n",
    "y_pred_DT = d_reg.predict(X_test)"
   ]
  },
  {
   "cell_type": "code",
   "execution_count": 29,
   "metadata": {},
   "outputs": [],
   "source": [
    "##--XGBRegressor\n",
    "from xgboost import XGBRegressor\n",
    "\n",
    "xgb_reg = XGBRegressor()\n",
    "xgb_reg.fit(X_train, y_train)\n",
    "y_pred_XGB = xgb_reg.predict(X_test)"
   ]
  },
  {
   "cell_type": "code",
   "execution_count": 30,
   "metadata": {},
   "outputs": [],
   "source": [
    "##--KNeighborsRegressor\n",
    "from sklearn.neighbors import KNeighborsRegressor\n",
    "from sklearn.inspection import permutation_importance\n",
    "\n",
    "knn_reg = KNeighborsRegressor()\n",
    "knn_reg.fit(X_train, y_train)\n",
    "y_pred_KNN = knn_reg.predict(X_test)"
   ]
  },
  {
   "cell_type": "markdown",
   "metadata": {},
   "source": [
    "# Hyperparameter Tuning the Random Forest"
   ]
  },
  {
   "cell_type": "code",
   "execution_count": 31,
   "metadata": {},
   "outputs": [
    {
     "name": "stdout",
     "output_type": "stream",
     "text": [
      "Parameters currently in use:\n",
      "\n",
      "{'bootstrap': True,\n",
      " 'ccp_alpha': 0.0,\n",
      " 'criterion': 'squared_error',\n",
      " 'max_depth': None,\n",
      " 'max_features': 'auto',\n",
      " 'max_leaf_nodes': None,\n",
      " 'max_samples': None,\n",
      " 'min_impurity_decrease': 0.0,\n",
      " 'min_samples_leaf': 1,\n",
      " 'min_samples_split': 2,\n",
      " 'min_weight_fraction_leaf': 0.0,\n",
      " 'n_estimators': 100,\n",
      " 'n_jobs': None,\n",
      " 'oob_score': False,\n",
      " 'random_state': 42,\n",
      " 'verbose': 0,\n",
      " 'warm_start': False}\n"
     ]
    }
   ],
   "source": [
    "# from sklearn.ensemble import RandomForestRegressor\n",
    "rf = RandomForestRegressor(random_state = 42)\n",
    "from pprint import pprint\n",
    "# Look at parameters used by our current forest\n",
    "print('Parameters currently in use:\\n')\n",
    "pprint(rf.get_params())"
   ]
  },
  {
   "cell_type": "code",
   "execution_count": 32,
   "metadata": {},
   "outputs": [
    {
     "name": "stdout",
     "output_type": "stream",
     "text": [
      "{'bootstrap': [True, False],\n",
      " 'max_depth': [10, 20, 30, 40, 50, 60, 70, 80, 90, 100, 110, None],\n",
      " 'max_features': ['auto', 'sqrt'],\n",
      " 'min_samples_leaf': [1, 2, 4],\n",
      " 'min_samples_split': [2, 5, 10],\n",
      " 'n_estimators': [200, 288, 377, 466, 555, 644, 733, 822, 911, 1000]}\n"
     ]
    }
   ],
   "source": [
    "from sklearn.model_selection import RandomizedSearchCV\n",
    "\n",
    "# Number of trees in random forest\n",
    "n_estimators = [int(x) for x in np.linspace(start = 200, stop = 1000, num = 10)]\n",
    "# Number of features to consider at every split\n",
    "max_features = ['auto', 'sqrt']\n",
    "# Maximum number of levels in tree\n",
    "max_depth = [int(x) for x in np.linspace(10, 110, num = 11)]\n",
    "max_depth.append(None)\n",
    "# Minimum number of samples required to split a node\n",
    "min_samples_split = [2, 5, 10]\n",
    "# Minimum number of samples required at each leaf node\n",
    "min_samples_leaf = [1, 2, 4]\n",
    "# Method of selecting samples for training each tree\n",
    "bootstrap = [True, False]\n",
    "\n",
    "# Create the random grid\n",
    "random_grid = {'n_estimators': n_estimators,\n",
    "               'max_features': max_features,\n",
    "               'max_depth': max_depth,\n",
    "               'min_samples_split': min_samples_split,\n",
    "               'min_samples_leaf': min_samples_leaf,\n",
    "               'bootstrap': bootstrap}\n",
    "pprint(random_grid)"
   ]
  },
  {
   "cell_type": "code",
   "execution_count": 33,
   "metadata": {},
   "outputs": [
    {
     "name": "stdout",
     "output_type": "stream",
     "text": [
      "Fitting 3 folds for each of 100 candidates, totalling 300 fits\n"
     ]
    },
    {
     "data": {
      "text/plain": [
       "RandomizedSearchCV(cv=3, estimator=RandomForestRegressor(), n_iter=100,\n",
       "                   n_jobs=-1,\n",
       "                   param_distributions={'bootstrap': [True, False],\n",
       "                                        'max_depth': [10, 20, 30, 40, 50, 60,\n",
       "                                                      70, 80, 90, 100, 110,\n",
       "                                                      None],\n",
       "                                        'max_features': ['auto', 'sqrt'],\n",
       "                                        'min_samples_leaf': [1, 2, 4],\n",
       "                                        'min_samples_split': [2, 5, 10],\n",
       "                                        'n_estimators': [200, 288, 377, 466,\n",
       "                                                         555, 644, 733, 822,\n",
       "                                                         911, 1000]},\n",
       "                   random_state=42, verbose=2)"
      ]
     },
     "execution_count": 33,
     "metadata": {},
     "output_type": "execute_result"
    }
   ],
   "source": [
    "# Use the random grid to search for best hyperparameters\n",
    "# First create the base model to tune\n",
    "rf = RandomForestRegressor()\n",
    "# Random search of parameters, using 3 fold cross validation, \n",
    "# search across 100 different combinations, and use all available cores\n",
    "rf_random = RandomizedSearchCV(estimator = rf, param_distributions = random_grid, n_iter = 100, cv = 3, verbose=2, random_state=42, n_jobs = -1)\n",
    "# Fit the random search model\n",
    "rf_random.fit(X_train, y_train)"
   ]
  },
  {
   "cell_type": "code",
   "execution_count": 34,
   "metadata": {},
   "outputs": [
    {
     "data": {
      "text/plain": [
       "{'n_estimators': 466,\n",
       " 'min_samples_split': 2,\n",
       " 'min_samples_leaf': 1,\n",
       " 'max_features': 'auto',\n",
       " 'max_depth': 100,\n",
       " 'bootstrap': True}"
      ]
     },
     "execution_count": 34,
     "metadata": {},
     "output_type": "execute_result"
    }
   ],
   "source": [
    "rf_random.best_params_"
   ]
  },
  {
   "cell_type": "code",
   "execution_count": 35,
   "metadata": {},
   "outputs": [],
   "source": [
    "y_pred_rf_random = rf_random.predict(X_test)"
   ]
  },
  {
   "cell_type": "code",
   "execution_count": 36,
   "metadata": {},
   "outputs": [],
   "source": [
    "from sklearn.metrics import r2_score\n",
    "r2_LR = r2_score(y_test,y_pred_LR)\n",
    "r2_DT = r2_score(y_test,y_pred_DT)\n",
    "r2_RF = r2_score(y_test,y_pred_RF)\n",
    "r2_XGB = r2_score(y_test,y_pred_XGB)\n",
    "r2_KNN = r2_score(y_test,y_pred_KNN)"
   ]
  },
  {
   "cell_type": "code",
   "execution_count": 37,
   "metadata": {},
   "outputs": [],
   "source": [
    "r2_rf_random=r2_score(y_test,y_pred_rf_random)"
   ]
  },
  {
   "cell_type": "code",
   "execution_count": 38,
   "metadata": {},
   "outputs": [
    {
     "name": "stdout",
     "output_type": "stream",
     "text": [
      "LR 0.08345410369484862\n",
      "DT 0.36001007345700653\n",
      "RF 0.6782323417391992\n",
      "XGB 0.5982063718684061\n",
      "KNN 0.45167513667077896\n"
     ]
    }
   ],
   "source": [
    "print('LR',r2_LR)\n",
    "print('DT',r2_DT)\n",
    "print('RF',r2_RF)\n",
    "print('XGB',r2_XGB)\n",
    "print('KNN',r2_KNN)"
   ]
  },
  {
   "cell_type": "code",
   "execution_count": 39,
   "metadata": {},
   "outputs": [
    {
     "name": "stdout",
     "output_type": "stream",
     "text": [
      "RF 0.6794561436513332\n"
     ]
    }
   ],
   "source": [
    "print('RF',r2_rf_random)"
   ]
  },
  {
   "cell_type": "code",
   "execution_count": 40,
   "metadata": {},
   "outputs": [
    {
     "data": {
      "text/html": [
       "<div>\n",
       "<style scoped>\n",
       "    .dataframe tbody tr th:only-of-type {\n",
       "        vertical-align: middle;\n",
       "    }\n",
       "\n",
       "    .dataframe tbody tr th {\n",
       "        vertical-align: top;\n",
       "    }\n",
       "\n",
       "    .dataframe thead th {\n",
       "        text-align: right;\n",
       "    }\n",
       "</style>\n",
       "<table border=\"1\" class=\"dataframe\">\n",
       "  <thead>\n",
       "    <tr style=\"text-align: right;\">\n",
       "      <th></th>\n",
       "      <th>Actual</th>\n",
       "      <th>Predicted</th>\n",
       "    </tr>\n",
       "  </thead>\n",
       "  <tbody>\n",
       "    <tr>\n",
       "      <th>0</th>\n",
       "      <td>2</td>\n",
       "      <td>2.17</td>\n",
       "    </tr>\n",
       "    <tr>\n",
       "      <th>1</th>\n",
       "      <td>1</td>\n",
       "      <td>1.25</td>\n",
       "    </tr>\n",
       "    <tr>\n",
       "      <th>2</th>\n",
       "      <td>1</td>\n",
       "      <td>0.89</td>\n",
       "    </tr>\n",
       "    <tr>\n",
       "      <th>3</th>\n",
       "      <td>0</td>\n",
       "      <td>0.11</td>\n",
       "    </tr>\n",
       "    <tr>\n",
       "      <th>4</th>\n",
       "      <td>0</td>\n",
       "      <td>0.01</td>\n",
       "    </tr>\n",
       "    <tr>\n",
       "      <th>...</th>\n",
       "      <td>...</td>\n",
       "      <td>...</td>\n",
       "    </tr>\n",
       "    <tr>\n",
       "      <th>540</th>\n",
       "      <td>0</td>\n",
       "      <td>1.12</td>\n",
       "    </tr>\n",
       "    <tr>\n",
       "      <th>541</th>\n",
       "      <td>2</td>\n",
       "      <td>1.85</td>\n",
       "    </tr>\n",
       "    <tr>\n",
       "      <th>542</th>\n",
       "      <td>1</td>\n",
       "      <td>0.90</td>\n",
       "    </tr>\n",
       "    <tr>\n",
       "      <th>543</th>\n",
       "      <td>2</td>\n",
       "      <td>0.84</td>\n",
       "    </tr>\n",
       "    <tr>\n",
       "      <th>544</th>\n",
       "      <td>1</td>\n",
       "      <td>1.31</td>\n",
       "    </tr>\n",
       "  </tbody>\n",
       "</table>\n",
       "<p>545 rows × 2 columns</p>\n",
       "</div>"
      ],
      "text/plain": [
       "     Actual  Predicted\n",
       "0         2       2.17\n",
       "1         1       1.25\n",
       "2         1       0.89\n",
       "3         0       0.11\n",
       "4         0       0.01\n",
       "..      ...        ...\n",
       "540       0       1.12\n",
       "541       2       1.85\n",
       "542       1       0.90\n",
       "543       2       0.84\n",
       "544       1       1.31\n",
       "\n",
       "[545 rows x 2 columns]"
      ]
     },
     "execution_count": 40,
     "metadata": {},
     "output_type": "execute_result"
    }
   ],
   "source": [
    "result = pd.DataFrame({'Actual': y_test, 'Predicted': y_pred_RF})\n",
    "result"
   ]
  },
  {
   "cell_type": "code",
   "execution_count": 226,
   "metadata": {},
   "outputs": [],
   "source": [
    "import pickle\n",
    "\n",
    "pickle.dump(Random_FR,open('Predict_Wickets.pkl','wb'))"
   ]
  },
  {
   "cell_type": "code",
   "execution_count": null,
   "metadata": {},
   "outputs": [],
   "source": []
  }
 ],
 "metadata": {
  "kernelspec": {
   "display_name": "Python 3 (ipykernel)",
   "language": "python",
   "name": "python3"
  },
  "language_info": {
   "codemirror_mode": {
    "name": "ipython",
    "version": 3
   },
   "file_extension": ".py",
   "mimetype": "text/x-python",
   "name": "python",
   "nbconvert_exporter": "python",
   "pygments_lexer": "ipython3",
   "version": "3.9.13"
  }
 },
 "nbformat": 4,
 "nbformat_minor": 4
}
