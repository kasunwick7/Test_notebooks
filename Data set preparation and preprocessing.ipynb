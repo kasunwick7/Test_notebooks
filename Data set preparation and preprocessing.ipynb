{
 "cells": [
  {
   "cell_type": "code",
   "execution_count": 8,
   "id": "22f7c276",
   "metadata": {},
   "outputs": [],
   "source": [
    "import os \n",
    "import numpy as np\n",
    "import cv2\n",
    "from matplotlib import pyplot as plt\n",
    "from keras.utils import np_utils"
   ]
  },
  {
   "cell_type": "code",
   "execution_count": 9,
   "id": "16e2e67d",
   "metadata": {},
   "outputs": [
    {
     "name": "stdout",
     "output_type": "stream",
     "text": [
      "['Cat', 'Dog']\n",
      "[0 1]\n",
      "{'Cat': 0, 'Dog': 1}\n"
     ]
    }
   ],
   "source": [
    "data_path=r'D:\\ML&DL\\Projects\\CNN Image Classification\\PetImages'\n",
    "\n",
    "categories=os.listdir(data_path)\n",
    "print(categories)\n",
    "\n",
    "labels=np.arange(len(categories))\n",
    "print(labels)\n",
    "\n",
    "label_dict=dict(zip(categories,labels))\n",
    "print(label_dict)"
   ]
  },
  {
   "cell_type": "code",
   "execution_count": 10,
   "id": "32d3f38a",
   "metadata": {},
   "outputs": [],
   "source": [
    "img_size=50\n",
    "\n",
    "data=[]\n",
    "target=[]\n",
    "\n",
    "for category in categories:\n",
    "    \n",
    "    imgs_path=os.path.join(data_path,category)\n",
    "    #print(imgs_path)\n",
    "    img_names=os.listdir(imgs_path)\n",
    "    #print(img_names)\n",
    "    \n",
    "    for img_name in img_names:\n",
    "        \n",
    "        try:\n",
    "            img_path=os.path.join(imgs_path,img_name)\n",
    "            img=cv2.imread(img_path)\n",
    "            #print(img_path)\n",
    "            \n",
    "            img=cv2.cvtColor(img,cv2.COLOR_BGR2GRAY)\n",
    "            img=cv2.resize(img,(img_size,img_size))\n",
    "            \n",
    "\n",
    "            data.append(img)\n",
    "            target.append(label_dict[category])\n",
    "        \n",
    "        except Exception as e:\n",
    "            \n",
    "            if os.path.exists(\"demofile.txt\"):\n",
    "                os.remove(\"demofile.txt\")\n",
    "                print(\"File Deleted\")\n",
    "            else:\n",
    "                print(\"The file does not exist\")\n",
    "            print(e)\n",
    "            \n",
    "        #cv2.imshow('LIVE',img)\n",
    "        #k=cv2.waitKey(1000)\n",
    "        #if(k==27):\n",
    "        #    break\n",
    "#cv2.destroyAllWindows()"
   ]
  },
  {
   "cell_type": "code",
   "execution_count": 11,
   "id": "6a60c78d",
   "metadata": {},
   "outputs": [
    {
     "name": "stdout",
     "output_type": "stream",
     "text": [
      "(24946, 50, 50)\n",
      "(24946,)\n"
     ]
    }
   ],
   "source": [
    "data_new=np.array(data)\n",
    "target_new=np.array(target)\n",
    "\n",
    "print(data_new.shape)\n",
    "print(target_new.shape)"
   ]
  },
  {
   "cell_type": "code",
   "execution_count": 12,
   "id": "7200fa0f",
   "metadata": {},
   "outputs": [
    {
     "data": {
      "text/plain": [
       "<matplotlib.image.AxesImage at 0x1a36a5e8fd0>"
      ]
     },
     "execution_count": 12,
     "metadata": {},
     "output_type": "execute_result"
    },
    {
     "data": {
      "image/png": "[encoded data removed]",
      "text/plain": [
       "<Figure size 640x480 with 1 Axes>"
      ]
     },
     "metadata": {},
     "output_type": "display_data"
    }
   ],
   "source": [
    "plt.imshow(data[20000],cmap='gray')"
   ]
  },
  {
   "cell_type": "code",
   "execution_count": 13,
   "id": "00be4b9a",
   "metadata": {},
   "outputs": [
    {
     "data": {
      "text/plain": [
       "1"
      ]
     },
     "execution_count": 13,
     "metadata": {},
     "output_type": "execute_result"
    }
   ],
   "source": [
    "target_new[20000]"
   ]
  },
  {
   "cell_type": "code",
   "execution_count": 14,
   "id": "69e00572",
   "metadata": {},
   "outputs": [
    {
     "name": "stdout",
     "output_type": "stream",
     "text": [
      "data shape :  (24946, 50, 50)\n",
      "data_new shape :  (24946, 50, 50, 1)\n"
     ]
    }
   ],
   "source": [
    "data_new = data_new/255.00\n",
    "print('data shape : ',data_new.shape)\n",
    "\n",
    "data_out=data_new.reshape(data_new.shape[0],data_new.shape[1],data_new.shape[2],1)\n",
    "print('data_new shape : ',data_out.shape)"
   ]
  },
  {
   "cell_type": "code",
   "execution_count": 15,
   "id": "cf831323",
   "metadata": {},
   "outputs": [
    {
     "name": "stdout",
     "output_type": "stream",
     "text": [
      "target_new shape :  (24946, 2)\n"
     ]
    }
   ],
   "source": [
    "target_out=np_utils.to_categorical(target_new)\n",
    "print('target_new shape : ',target_out.shape)"
   ]
  },
  {
   "cell_type": "code",
   "execution_count": 18,
   "id": "7d15c184",
   "metadata": {},
   "outputs": [],
   "source": [
    "# np.save('data-memory-save',data_out)\n",
    "# np.save('target-memory-save',target_out)"
   ]
  }
 ],
 "metadata": {
  "kernelspec": {
   "display_name": "Python 3",
   "language": "python",
   "name": "python3"
  },
  "language_info": {
   "codemirror_mode": {
    "name": "ipython",
    "version": 3
   },
   "file_extension": ".py",
   "mimetype": "text/x-python",
   "name": "python",
   "nbconvert_exporter": "python",
   "pygments_lexer": "ipython3",
   "version": "3.9.13"
  },
  "vscode": {
   "interpreter": {
    "hash": "89509cf2af86f1c9bcea5d6d41528060bd4cd428bc11d5cb1f2a7f6bba83166e"
   }
  }
 },
 "nbformat": 4,
 "nbformat_minor": 5
}
